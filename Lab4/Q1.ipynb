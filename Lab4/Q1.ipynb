{
 "cells": [
  {
   "cell_type": "code",
   "execution_count": 1,
   "id": "4892cf42",
   "metadata": {},
   "outputs": [
    {
     "name": "stdout",
     "output_type": "stream",
     "text": [
      "784.125\n",
      "AmazonRiver\n"
     ]
    }
   ],
   "source": [
    "number1 = 20.50\n",
    "number2 = 38.25\n",
    "# Print the multiplication of number1 and number2 using * operator.\n",
    "\n",
    "string1 = \"Amazon\"\n",
    "string2 = \"River\"\n",
    "# Print the concatenated value of string1 and string2 using + operator.\n",
    "print(number1*number2)\n",
    "print(string1+string2)"
   ]
  },
  {
   "cell_type": "code",
   "execution_count": null,
   "id": "425742eb",
   "metadata": {},
   "outputs": [],
   "source": []
  }
 ],
 "metadata": {
  "kernelspec": {
   "display_name": "Python 3 (ipykernel)",
   "language": "python",
   "name": "python3"
  },
  "language_info": {
   "codemirror_mode": {
    "name": "ipython",
    "version": 3
   },
   "file_extension": ".py",
   "mimetype": "text/x-python",
   "name": "python",
   "nbconvert_exporter": "python",
   "pygments_lexer": "ipython3",
   "version": "3.9.13"
  }
 },
 "nbformat": 4,
 "nbformat_minor": 5
}
