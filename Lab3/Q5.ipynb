{
 "cells": [
  {
   "cell_type": "code",
   "execution_count": 4,
   "id": "4892cf42",
   "metadata": {},
   "outputs": [
    {
     "name": "stdout",
     "output_type": "stream",
     "text": [
      "Enter a value: ww\n",
      "Value of a: ww\n",
      "Value of b: ww\n",
      "Value of c: ww\n"
     ]
    }
   ],
   "source": [
    "str = input(\"Enter a value: \")\n",
    "# Assign str to three objects a, b and c\n",
    "# Print a\n",
    "# Print b\n",
    "# Print c\n",
    "a=b=c = str\n",
    "\n",
    "print(\"Value of a:\",a)\n",
    "print(\"Value of b:\",b)\n",
    "print(\"Value of c:\",c)"
   ]
  },
  {
   "cell_type": "code",
   "execution_count": null,
   "id": "425742eb",
   "metadata": {},
   "outputs": [],
   "source": []
  }
 ],
 "metadata": {
  "kernelspec": {
   "display_name": "Python 3 (ipykernel)",
   "language": "python",
   "name": "python3"
  },
  "language_info": {
   "codemirror_mode": {
    "name": "ipython",
    "version": 3
   },
   "file_extension": ".py",
   "mimetype": "text/x-python",
   "name": "python",
   "nbconvert_exporter": "python",
   "pygments_lexer": "ipython3",
   "version": "3.9.13"
  }
 },
 "nbformat": 4,
 "nbformat_minor": 5
}
