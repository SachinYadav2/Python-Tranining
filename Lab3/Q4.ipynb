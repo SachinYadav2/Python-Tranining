{
 "cells": [
  {
   "cell_type": "code",
   "execution_count": 3,
   "id": "4892cf42",
   "metadata": {},
   "outputs": [
    {
     "name": "stdout",
     "output_type": "stream",
     "text": [
      "999\n",
      "24.789\n",
      "Python Interpreter\n"
     ]
    }
   ],
   "source": [
    "val1, val2,val3 = 999 , 24.789 , \"Python Interpreter\"\n",
    "print(val1)\n",
    "print(val2)\n",
    "print(val3)\n"
   ]
  },
  {
   "cell_type": "code",
   "execution_count": null,
   "id": "425742eb",
   "metadata": {},
   "outputs": [],
   "source": []
  }
 ],
 "metadata": {
  "kernelspec": {
   "display_name": "Python 3 (ipykernel)",
   "language": "python",
   "name": "python3"
  },
  "language_info": {
   "codemirror_mode": {
    "name": "ipython",
    "version": 3
   },
   "file_extension": ".py",
   "mimetype": "text/x-python",
   "name": "python",
   "nbconvert_exporter": "python",
   "pygments_lexer": "ipython3",
   "version": "3.9.13"
  }
 },
 "nbformat": 4,
 "nbformat_minor": 5
}
