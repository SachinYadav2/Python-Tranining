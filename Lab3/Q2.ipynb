{
 "cells": [
  {
   "cell_type": "code",
   "execution_count": 1,
   "id": "4892cf42",
   "metadata": {},
   "outputs": [
    {
     "name": "stdout",
     "output_type": "stream",
     "text": [
      "Hello\n",
      "Hello\n",
      "Hello\n",
      "99\n",
      "Hello Python\n",
      "Hello World\n"
     ]
    }
   ],
   "source": [
    "value1 = value2 = value3 = \"Hello\"\n",
    "print(value1)\n",
    "print(value2)\n",
    "print(value3)\n",
    "# Assign values to variables and print again\n",
    "value4 = 99\n",
    "value5 = \"Hello Python\"\n",
    "value6 = \"Hello World\"\n",
    "print(value4)\n",
    "print(value5)\n",
    "print(value6)"
   ]
  },
  {
   "cell_type": "code",
   "execution_count": null,
   "id": "425742eb",
   "metadata": {},
   "outputs": [],
   "source": []
  }
 ],
 "metadata": {
  "kernelspec": {
   "display_name": "Python 3 (ipykernel)",
   "language": "python",
   "name": "python3"
  },
  "language_info": {
   "codemirror_mode": {
    "name": "ipython",
    "version": 3
   },
   "file_extension": ".py",
   "mimetype": "text/x-python",
   "name": "python",
   "nbconvert_exporter": "python",
   "pygments_lexer": "ipython3",
   "version": "3.9.13"
  }
 },
 "nbformat": 4,
 "nbformat_minor": 5
}
