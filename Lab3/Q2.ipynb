{
 "cells": [
  {
   "cell_type": "code",
   "execution_count": 3,
   "id": "4892cf42",
   "metadata": {},
   "outputs": [
    {
     "name": "stdout",
     "output_type": "stream",
     "text": [
      "and is a keyword : True\n",
      "exec is a keyword : False\n",
      "nonlocal is a keyword : True\n",
      "False is a keyword : True\n"
     ]
    }
   ],
   "source": [
    "#in the below line, initialize a variable called length with value 18\n",
    "\n",
    "\n",
    "#in the below line, initialize a variable called snake with text \"King Cobra\"\n",
    "snake = \"King Cobra\"\n",
    "length = 18\n",
    "\n",
    "#Make no changes to the below line\n",
    "print(snake, \"can grow up to a length of\", length, \"feet\")"
   ]
  },
  {
   "cell_type": "code",
   "execution_count": null,
   "id": "425742eb",
   "metadata": {},
   "outputs": [],
   "source": []
  }
 ],
 "metadata": {
  "kernelspec": {
   "display_name": "Python 3 (ipykernel)",
   "language": "python",
   "name": "python3"
  },
  "language_info": {
   "codemirror_mode": {
    "name": "ipython",
    "version": 3
   },
   "file_extension": ".py",
   "mimetype": "text/x-python",
   "name": "python",
   "nbconvert_exporter": "python",
   "pygments_lexer": "ipython3",
   "version": "3.9.13"
  }
 },
 "nbformat": 4,
 "nbformat_minor": 5
}
