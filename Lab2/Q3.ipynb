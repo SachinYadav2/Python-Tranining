{
 "cells": [
  {
   "cell_type": "code",
   "execution_count": 2,
   "id": "e781fffb",
   "metadata": {},
   "outputs": [
    {
     "name": "stdout",
     "output_type": "stream",
     "text": [
      "1\n",
      "3\n",
      "5\n",
      "7\n",
      "9\n",
      "11\n",
      "13\n"
     ]
    }
   ],
   "source": [
    "print(\"1\")\n",
    "# print(\"2\")\n",
    "print(\"3\")\n",
    "# print(\"4\")\n",
    "print(\"5\")\n",
    "# print(\"6\")\n",
    "print(\"7\")\n",
    "# print(\"8\")\n",
    "print(\"9\")\n",
    "# print(\"10\")\n",
    "print(\"11\")\n",
    "# print(\"12\")\n",
    "print(\"13\")"
   ]
  },
  {
   "cell_type": "code",
   "execution_count": null,
   "id": "b06acb17",
   "metadata": {},
   "outputs": [],
   "source": []
  }
 ],
 "metadata": {
  "kernelspec": {
   "display_name": "Python 3 (ipykernel)",
   "language": "python",
   "name": "python3"
  },
  "language_info": {
   "codemirror_mode": {
    "name": "ipython",
    "version": 3
   },
   "file_extension": ".py",
   "mimetype": "text/x-python",
   "name": "python",
   "nbconvert_exporter": "python",
   "pygments_lexer": "ipython3",
   "version": "3.9.13"
  }
 },
 "nbformat": 4,
 "nbformat_minor": 5
}
